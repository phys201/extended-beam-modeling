{
 "cells": [
  {
   "cell_type": "code",
   "execution_count": 1,
   "metadata": {},
   "outputs": [],
   "source": [
    "import numpy as np\n",
    "import matplotlib.pyplot as plt\n",
    "import healpy as hp\n",
    "import sys"
   ]
  },
  {
   "cell_type": "code",
   "execution_count": null,
   "metadata": {},
   "outputs": [],
   "source": [
    "# Reset modules you've made changes to\n",
    "\n",
    "import xbmodeling.gen_model as gm\n",
    "from xbmodeling.config import modelconf\n",
    "del sys.modules['xbmodeling.gen_model']\n",
    "del sys.modules['xbmodeling.config']\n",
    "import xbmodeling.gen_model as gm\n",
    "from xbmodeling.config import modelconf\n"
   ]
  },
  {
   "cell_type": "code",
   "execution_count": null,
   "metadata": {},
   "outputs": [],
   "source": [
    "# Check the subfunctions\n",
    "# Extract some CMB map. Lower the resolution so that it doesn't take forever\n",
    "cmbmap = gm.make_cmb_ground_map(modelconf[\"cmbFile\"],T=300, nside_out=128)\n",
    "\n",
    "## Make a beammap made of a main beam and an 'extended' beam.\n",
    "beammap = gm.make_beam_map(params = [1,0,0,3,3,1],nside=128)\n",
    "beammap2 = gm.make_beam_map(params =[0.5,0,30,30,30,0],nside=128)\n",
    "bm_total = (beammap+beammap2)/np.max(beammap+beammap2) # Add and normalize\n",
    "\n",
    "\n",
    "# Convolve the maps together\n",
    "conv_map = gm.convolve_maps(cmbmap[0,:],bm_total)\n",
    "\n"
   ]
  },
  {
   "cell_type": "code",
   "execution_count": null,
   "metadata": {},
   "outputs": [],
   "source": [
    "# Plot the things\n",
    "hp.mollview(cmbmap[0,:])\n",
    "hp.mollview(bm_total)\n",
    "hp.mollview(conv_map)\n",
    "plt.show()"
   ]
  },
  {
   "cell_type": "code",
   "execution_count": null,
   "metadata": {},
   "outputs": [],
   "source": [
    "# Rotations should be done with rotate_map_pixel as the\n",
    "# spherical harmonics method doesn't work well with out background.\n",
    "R = hp.Rotator([0,90]).rotate_map_pixel #.rotate_map_alms\n",
    "Rback = hp.Rotator([0,-90]).rotate_map_pixel #.rotate_map_alms\n",
    "hp.mollview(R(cmbmap[0,:]))\n",
    "hp.mollview(R(bm_total)) \n",
    "hp.mollview(gm.convolve_maps(R(cmbmap[0,:]),bm_total))\n",
    "hp.mollview(conv_map-Rback(gm.convolve_maps(R(cmbmap[0,:]),bm_total)))"
   ]
  },
  {
   "cell_type": "code",
   "execution_count": null,
   "metadata": {},
   "outputs": [],
   "source": [
    "# The class function:\n",
    "\n",
    "import xbmodeling.gen_model as gm\n",
    "from xbmodeling.config import modelconf\n",
    "del sys.modules['xbmodeling.gen_model']\n",
    "del sys.modules['xbmodeling.config']\n",
    "import xbmodeling.gen_model as gm\n",
    "from xbmodeling.config import modelconf\n",
    "\n",
    "# Uninitialized, the class produces a delta function for the beammap\n",
    "# so that the convolution map will simply be the CMB+background map\n",
    "model = gm.GenModelMap()\n",
    "model.plot('convmap',min=0,max=300)"
   ]
  },
  {
   "cell_type": "code",
   "execution_count": null,
   "metadata": {},
   "outputs": [],
   "source": [
    "model.plot('all')"
   ]
  },
  {
   "cell_type": "code",
   "execution_count": 70,
   "metadata": {},
   "outputs": [],
   "source": [
    "# Testing the pointing model\n",
    "import xbmodeling.pointing_model as pnt\n",
    "from xbmodeling.config import modelconf\n",
    "del sys.modules['xbmodeling.pointing_model']\n",
    "del sys.modules['xbmodeling.config']\n",
    "import xbmodeling.pointing_model as pnt\n",
    "from xbmodeling.config import modelconf\n",
    "\n"
   ]
  },
  {
   "cell_type": "code",
   "execution_count": 97,
   "metadata": {},
   "outputs": [
    {
     "ename": "ValueError",
     "evalue": "operands could not be broadcast together with shapes (3,) (2,) ",
     "output_type": "error",
     "traceback": [
      "\u001b[0;31m---------------------------------------------------------------------------\u001b[0m",
      "\u001b[0;31mValueError\u001b[0m                                Traceback (most recent call last)",
      "\u001b[0;32m<ipython-input-97-736606516790>\u001b[0m in \u001b[0;36m<module>\u001b[0;34m\u001b[0m\n\u001b[1;32m      6\u001b[0m \u001b[0mtheta\u001b[0m \u001b[0;34m=\u001b[0m \u001b[0;36m0\u001b[0m\u001b[0;34m\u001b[0m\u001b[0;34m\u001b[0m\u001b[0m\n\u001b[1;32m      7\u001b[0m \u001b[0;34m\u001b[0m\u001b[0m\n\u001b[0;32m----> 8\u001b[0;31m \u001b[0maz_app\u001b[0m\u001b[0;34m,\u001b[0m \u001b[0mel_app\u001b[0m\u001b[0;34m,\u001b[0m \u001b[0mpa\u001b[0m \u001b[0;34m=\u001b[0m \u001b[0mpnt\u001b[0m\u001b[0;34m.\u001b[0m\u001b[0mbeam_pointing_model\u001b[0m\u001b[0;34m(\u001b[0m\u001b[0maz\u001b[0m\u001b[0;34m,\u001b[0m \u001b[0mel\u001b[0m\u001b[0;34m,\u001b[0m \u001b[0mdk\u001b[0m\u001b[0;34m,\u001b[0m \u001b[0mr\u001b[0m\u001b[0;34m,\u001b[0m \u001b[0mtheta\u001b[0m\u001b[0;34m,\u001b[0m\u001b[0mpol\u001b[0m\u001b[0;34m=\u001b[0m\u001b[0;36m0\u001b[0m\u001b[0;34m,\u001b[0m\u001b[0mmntstr\u001b[0m\u001b[0;34m=\u001b[0m\u001b[0;34m\"B3\"\u001b[0m\u001b[0;34m)\u001b[0m\u001b[0;34m\u001b[0m\u001b[0;34m\u001b[0m\u001b[0m\n\u001b[0m\u001b[1;32m      9\u001b[0m \u001b[0mprint\u001b[0m\u001b[0;34m(\u001b[0m\u001b[0maz_app\u001b[0m\u001b[0;34m,\u001b[0m\u001b[0mel_app\u001b[0m\u001b[0;34m,\u001b[0m\u001b[0mpa\u001b[0m\u001b[0;34m)\u001b[0m\u001b[0;34m\u001b[0m\u001b[0;34m\u001b[0m\u001b[0m\n",
      "\u001b[0;32m~/src/extended-beam-modeling/xbmodeling/pointing_model.py\u001b[0m in \u001b[0;36mbeam_pointing_model\u001b[0;34m(az, el, dk, r, theta, pol, mntstr)\u001b[0m\n\u001b[1;32m     92\u001b[0m \u001b[0;34m\u001b[0m\u001b[0m\n\u001b[1;32m     93\u001b[0m     \u001b[0;31m# Do an additional rotation to reflect the detector pointing\u001b[0m\u001b[0;34m\u001b[0m\u001b[0;34m\u001b[0m\u001b[0;34m\u001b[0m\u001b[0m\n\u001b[0;32m---> 94\u001b[0;31m     \u001b[0mdetdir\u001b[0m\u001b[0;34m,\u001b[0m \u001b[0mdetpol\u001b[0m\u001b[0;34m,\u001b[0m \u001b[0mdetort\u001b[0m\u001b[0;34m,\u001b[0m \u001b[0mdetort2\u001b[0m \u001b[0;34m=\u001b[0m \u001b[0mdetector_transform\u001b[0m\u001b[0;34m(\u001b[0m\u001b[0mmountdir\u001b[0m\u001b[0;34m,\u001b[0m \u001b[0mmountort\u001b[0m\u001b[0;34m,\u001b[0m \u001b[0mr\u001b[0m\u001b[0;34m,\u001b[0m \u001b[0mtheta\u001b[0m\u001b[0;34m,\u001b[0m \u001b[0mpol\u001b[0m\u001b[0;34m)\u001b[0m\u001b[0;34m\u001b[0m\u001b[0;34m\u001b[0m\u001b[0m\n\u001b[0m\u001b[1;32m     95\u001b[0m \u001b[0;34m\u001b[0m\u001b[0m\n\u001b[1;32m     96\u001b[0m     \u001b[0;32mreturn\u001b[0m \u001b[0mget_apparent_topocoords\u001b[0m\u001b[0;34m(\u001b[0m\u001b[0mdetdir\u001b[0m\u001b[0;34m,\u001b[0m \u001b[0mdetpol\u001b[0m\u001b[0;34m)\u001b[0m\u001b[0;34m\u001b[0m\u001b[0;34m\u001b[0m\u001b[0m\n",
      "\u001b[0;32m~/src/extended-beam-modeling/xbmodeling/pointing_model.py\u001b[0m in \u001b[0;36mdetector_transform\u001b[0;34m(indir, inort, r, theta, pol)\u001b[0m\n\u001b[1;32m    132\u001b[0m     \u001b[0;31m# the direction of the detector pointing WRT the boresight.\u001b[0m\u001b[0;34m\u001b[0m\u001b[0;34m\u001b[0m\u001b[0;34m\u001b[0m\u001b[0m\n\u001b[1;32m    133\u001b[0m     \u001b[0minort2\u001b[0m \u001b[0;34m=\u001b[0m \u001b[0mindir\u001b[0m\u001b[0;34m.\u001b[0m\u001b[0mcross\u001b[0m\u001b[0;34m(\u001b[0m\u001b[0minort\u001b[0m\u001b[0;34m)\u001b[0m\u001b[0;34m\u001b[0m\u001b[0;34m\u001b[0m\u001b[0m\n\u001b[0;32m--> 134\u001b[0;31m     outdir, outort, outort2 = [euler_rotate(obj, -theta, -r, theta, inort, inort2, indir)\n\u001b[0m\u001b[1;32m    135\u001b[0m                                for obj in [indir, inort, inort2]]\n\u001b[1;32m    136\u001b[0m \u001b[0;34m\u001b[0m\u001b[0m\n",
      "\u001b[0;32m~/src/extended-beam-modeling/xbmodeling/pointing_model.py\u001b[0m in \u001b[0;36m<listcomp>\u001b[0;34m(.0)\u001b[0m\n\u001b[1;32m    132\u001b[0m     \u001b[0;31m# the direction of the detector pointing WRT the boresight.\u001b[0m\u001b[0;34m\u001b[0m\u001b[0;34m\u001b[0m\u001b[0;34m\u001b[0m\u001b[0m\n\u001b[1;32m    133\u001b[0m     \u001b[0minort2\u001b[0m \u001b[0;34m=\u001b[0m \u001b[0mindir\u001b[0m\u001b[0;34m.\u001b[0m\u001b[0mcross\u001b[0m\u001b[0;34m(\u001b[0m\u001b[0minort\u001b[0m\u001b[0;34m)\u001b[0m\u001b[0;34m\u001b[0m\u001b[0;34m\u001b[0m\u001b[0m\n\u001b[0;32m--> 134\u001b[0;31m     outdir, outort, outort2 = [euler_rotate(obj, -theta, -r, theta, inort, inort2, indir)\n\u001b[0m\u001b[1;32m    135\u001b[0m                                for obj in [indir, inort, inort2]]\n\u001b[1;32m    136\u001b[0m \u001b[0;34m\u001b[0m\u001b[0m\n",
      "\u001b[0;32m~/src/extended-beam-modeling/xbmodeling/pointing_model.py\u001b[0m in \u001b[0;36meuler_rotate\u001b[0;34m(V, a, b, g, e1, e2, e3)\u001b[0m\n\u001b[1;32m    150\u001b[0m     \u001b[0mZP\u001b[0m \u001b[0;34m=\u001b[0m \u001b[0me3\u001b[0m\u001b[0;34m.\u001b[0m\u001b[0mrotate\u001b[0m\u001b[0;34m(\u001b[0m\u001b[0me3\u001b[0m\u001b[0;34m,\u001b[0m \u001b[0mg\u001b[0m\u001b[0;34m)\u001b[0m\u001b[0;34m\u001b[0m\u001b[0;34m\u001b[0m\u001b[0m\n\u001b[1;32m    151\u001b[0m \u001b[0;34m\u001b[0m\u001b[0m\n\u001b[0;32m--> 152\u001b[0;31m     \u001b[0mV\u001b[0m \u001b[0;34m=\u001b[0m \u001b[0mV\u001b[0m\u001b[0;34m.\u001b[0m\u001b[0mrotate\u001b[0m\u001b[0;34m(\u001b[0m\u001b[0mYP\u001b[0m\u001b[0;34m,\u001b[0m \u001b[0mb\u001b[0m\u001b[0;34m)\u001b[0m\u001b[0;34m\u001b[0m\u001b[0;34m\u001b[0m\u001b[0m\n\u001b[0m\u001b[1;32m    153\u001b[0m     \u001b[0mXPP\u001b[0m \u001b[0;34m=\u001b[0m \u001b[0mXP\u001b[0m\u001b[0;34m.\u001b[0m\u001b[0mrotate\u001b[0m\u001b[0;34m(\u001b[0m\u001b[0mYP\u001b[0m\u001b[0;34m,\u001b[0m \u001b[0mb\u001b[0m\u001b[0;34m)\u001b[0m\u001b[0;34m\u001b[0m\u001b[0;34m\u001b[0m\u001b[0m\n\u001b[1;32m    154\u001b[0m     \u001b[0mYPP\u001b[0m \u001b[0;34m=\u001b[0m \u001b[0mYP\u001b[0m\u001b[0;34m.\u001b[0m\u001b[0mrotate\u001b[0m\u001b[0;34m(\u001b[0m\u001b[0mYP\u001b[0m\u001b[0;34m,\u001b[0m \u001b[0mb\u001b[0m\u001b[0;34m)\u001b[0m\u001b[0;34m\u001b[0m\u001b[0;34m\u001b[0m\u001b[0m\n",
      "\u001b[0;32m~/src/extended-beam-modeling/xbmodeling/pointing_model.py\u001b[0m in \u001b[0;36mrotate\u001b[0;34m(self, k, th, degrees)\u001b[0m\n\u001b[1;32m     73\u001b[0m \u001b[0;34m\u001b[0m\u001b[0m\n\u001b[1;32m     74\u001b[0m         \u001b[0mk\u001b[0m\u001b[0;34m.\u001b[0m\u001b[0mnorm\u001b[0m\u001b[0;34m(\u001b[0m\u001b[0;34m)\u001b[0m\u001b[0;34m\u001b[0m\u001b[0;34m\u001b[0m\u001b[0m\n\u001b[0;32m---> 75\u001b[0;31m         \u001b[0;32mreturn\u001b[0m \u001b[0mself\u001b[0m \u001b[0;34m*\u001b[0m \u001b[0mnp\u001b[0m\u001b[0;34m.\u001b[0m\u001b[0mcos\u001b[0m\u001b[0;34m(\u001b[0m\u001b[0mth\u001b[0m\u001b[0;34m)\u001b[0m \u001b[0;34m+\u001b[0m \u001b[0mk\u001b[0m\u001b[0;34m.\u001b[0m\u001b[0mcross\u001b[0m\u001b[0;34m(\u001b[0m\u001b[0mself\u001b[0m\u001b[0;34m)\u001b[0m \u001b[0;34m*\u001b[0m \u001b[0mnp\u001b[0m\u001b[0;34m.\u001b[0m\u001b[0msin\u001b[0m\u001b[0;34m(\u001b[0m\u001b[0mth\u001b[0m\u001b[0;34m)\u001b[0m \u001b[0;34m+\u001b[0m \u001b[0mk\u001b[0m \u001b[0;34m*\u001b[0m \u001b[0mk\u001b[0m\u001b[0;34m.\u001b[0m\u001b[0mdot\u001b[0m\u001b[0;34m(\u001b[0m\u001b[0mself\u001b[0m\u001b[0;34m)\u001b[0m \u001b[0;34m*\u001b[0m \u001b[0;34m(\u001b[0m\u001b[0;36m1\u001b[0m \u001b[0;34m-\u001b[0m \u001b[0mnp\u001b[0m\u001b[0;34m.\u001b[0m\u001b[0mcos\u001b[0m\u001b[0;34m(\u001b[0m\u001b[0mth\u001b[0m\u001b[0;34m)\u001b[0m\u001b[0;34m)\u001b[0m\u001b[0;34m\u001b[0m\u001b[0;34m\u001b[0m\u001b[0m\n\u001b[0m\u001b[1;32m     76\u001b[0m \u001b[0;34m\u001b[0m\u001b[0m\n\u001b[1;32m     77\u001b[0m \u001b[0;34m\u001b[0m\u001b[0m\n",
      "\u001b[0;32m~/src/extended-beam-modeling/xbmodeling/pointing_model.py\u001b[0m in \u001b[0;36m__mul__\u001b[0;34m(self, other)\u001b[0m\n\u001b[1;32m     23\u001b[0m \u001b[0;34m\u001b[0m\u001b[0m\n\u001b[1;32m     24\u001b[0m     \u001b[0;32mdef\u001b[0m \u001b[0m__mul__\u001b[0m\u001b[0;34m(\u001b[0m\u001b[0mself\u001b[0m\u001b[0;34m,\u001b[0m \u001b[0mother\u001b[0m\u001b[0;34m)\u001b[0m\u001b[0;34m:\u001b[0m\u001b[0;34m\u001b[0m\u001b[0;34m\u001b[0m\u001b[0m\n\u001b[0;32m---> 25\u001b[0;31m         \u001b[0;32mreturn\u001b[0m \u001b[0mvec3\u001b[0m\u001b[0;34m(\u001b[0m\u001b[0mself\u001b[0m\u001b[0;34m.\u001b[0m\u001b[0mx\u001b[0m \u001b[0;34m*\u001b[0m \u001b[0mother\u001b[0m\u001b[0;34m,\u001b[0m \u001b[0mself\u001b[0m\u001b[0;34m.\u001b[0m\u001b[0my\u001b[0m \u001b[0;34m*\u001b[0m \u001b[0mother\u001b[0m\u001b[0;34m,\u001b[0m \u001b[0mself\u001b[0m\u001b[0;34m.\u001b[0m\u001b[0mz\u001b[0m \u001b[0;34m*\u001b[0m \u001b[0mother\u001b[0m\u001b[0;34m)\u001b[0m\u001b[0;34m\u001b[0m\u001b[0;34m\u001b[0m\u001b[0m\n\u001b[0m\u001b[1;32m     26\u001b[0m \u001b[0;34m\u001b[0m\u001b[0m\n\u001b[1;32m     27\u001b[0m     \u001b[0;32mdef\u001b[0m \u001b[0m__add__\u001b[0m\u001b[0;34m(\u001b[0m\u001b[0mself\u001b[0m\u001b[0;34m,\u001b[0m \u001b[0mother\u001b[0m\u001b[0;34m)\u001b[0m\u001b[0;34m:\u001b[0m\u001b[0;34m\u001b[0m\u001b[0;34m\u001b[0m\u001b[0m\n",
      "\u001b[0;31mValueError\u001b[0m: operands could not be broadcast together with shapes (3,) (2,) "
     ]
    }
   ],
   "source": [
    "# beam_pointing_model(az, el, dk, r, theta,pol=0, mnt=mountconf[\"keck\"])\n",
    "az = np.zeros(3)\n",
    "el = np.zeros(3)\n",
    "dk = np.zeros(3)\n",
    "r = 0\n",
    "theta = 0\n",
    "\n",
    "az_app, el_app, pa = pnt.beam_pointing_model(az, el, dk, r, theta,pol=0,mntstr=\"B3\")\n",
    "print(az_app,el_app,pa)\n"
   ]
  },
  {
   "cell_type": "code",
   "execution_count": 29,
   "metadata": {},
   "outputs": [
    {
     "data": {
      "text/plain": [
       "0.3141592653589793"
      ]
     },
     "execution_count": 29,
     "metadata": {},
     "output_type": "execute_result"
    }
   ],
   "source": []
  }
 ],
 "metadata": {
  "kernelspec": {
   "display_name": "Python 3",
   "language": "python",
   "name": "python3"
  },
  "language_info": {
   "codemirror_mode": {
    "name": "ipython",
    "version": 3
   },
   "file_extension": ".py",
   "mimetype": "text/x-python",
   "name": "python",
   "nbconvert_exporter": "python",
   "pygments_lexer": "ipython3",
   "version": "3.8.2"
  }
 },
 "nbformat": 4,
 "nbformat_minor": 4
}
